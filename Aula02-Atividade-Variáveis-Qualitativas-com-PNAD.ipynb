{
 "cells": [
  {
   "cell_type": "markdown",
   "metadata": {},
   "source": [
    "___\n",
    "# Atividade: Variáveis qualitativas com a PNAD (ALUNOS)\n",
    "___\n",
    "\n",
    "## Aula 02\n",
    "\n",
    "\n",
    "**Link úteis:**\n",
    "1.\tLeitura prévia necessária: Magalhães e Lima (7ª. Edição): pág. 9 a 16 – destacando para variáveis qualitativas.\n",
    "2.\t10 Minutes to Pandas: http://pandas.pydata.org/pandas-docs/stable/10min.html\n",
    "3.\tEssential Basic Functionality: http://pandas.pydata.org/pandas-docs/stable/basics.html\n",
    "4.  Estude a aula `Aula02 Análise Exploratoria Variáveis Qualitativas-ALUNOS.ipynb`, o qual contém uma introdução ao Jupyter Notebook. A publicação dessa aula tem como objetivo auxiliá-lo, caso queira, no desenvolvimento dos seus próximos programas, como esta atividade.\n",
    "\n",
    "**Hoje:**\n",
    "1.\tAnalisar variáveis qualitativas de forma uni e bivariadas utilizando tabelas de frequências e gráficos de barras e de pizza (ou setor).\n",
    "2.  Trabalhar com a base de dados da PNAD 2013 - Pesquisa Nacional por Amostra de Domicílios\n",
    "\n",
    "**Próxima aula:**\n",
    "1.\tLeitura prévia necessária: Magalhães e Lima (7ª. Edição): pág. 9 a 17 – destacando para variáveis quantitativas; pág. 106 e 107 (Definição 4.1 e Exemplo 4.1).\n",
    "\n",
    "___\n"
   ]
  },
  {
   "cell_type": "markdown",
   "metadata": {},
   "source": [
    "___\n",
    "## <font color='blue'>PNAD 2013 – PESQUISA NACIONAL POR AMOSTRA DE DOMICÍLIOS</font>\n",
    "\n",
    "**Base de dados reduzida: ** `pes2013A.txt` (75 MB)\n",
    "[Acesse a base de dados aqui: https://dl.dropboxusercontent.com/u/65763596/Aula02/pes2013A.txt] \n",
    "\n",
    "**Dicionário das variáveis: ** `Dicionário de variáveis de pessoas - PNAD 2013.xlsx`\n",
    "[Acesse dicionário aqui: https://dl.dropboxusercontent.com/u/65763596/Aula02/Dicion%C3%A1rio%20de%20vari%C3%A1veis%20de%20pessoas%20-%20PNAD%202013.xls]\n",
    "\n",
    "\n",
    "Muitos especialistas na área de negócios dizem que empresários mais bem sucedidos são aqueles que fazem um planejamento antes de começar seu próprio negócio. Nessa visão, imagine que o Sr. Gold tenha como grande objetivo abrir uma nova faculdade e para isso deseja estudar o perfil do estudante que cursa ensino médio ou pré-vestibular e do que cursa ensino superior. \n",
    "\n",
    "Assuma que as variáveis de interesse a respeito dos estudantes sejam relativamente as mesmas de 2013 até o momento atual. Nesse caso, seja criativo para ajudar o Sr. Gold que deseja abrir seu negócio, mas não tem certeza sobre quais variáveis o interessam. \n",
    "\n",
    "Vocês podem ajudá-lo?!  \n",
    "\n",
    "As variáveis a seguir devem fazer parte da sua análise:\n",
    "\n",
    "* V0302: sexo\n",
    "* V0404: cor ou raça\n",
    "* V6002: rede de ensino\n",
    "* V4802: nível de ensino e grupos de séries do ensino fundamental que frequentavam (todos os estudantes)\n",
    "\n",
    "** Crie uma variável com região do indivíduo amostrado considerando a variável `UF` que define o estado e também trabalhe com essa nova variável em suas análises. ** \n",
    "\n",
    "** Escolha mais pelo menos DUAS variáveis qualitativas para completar sua análise!! **\n",
    "\n",
    "Faça uma análise exploratória apenas com as variáveis qualitativas com foco no objetivo do Sr. Gold.\n",
    "\n",
    "Sua análise deve conter pelo menos uma das seguintes visualizações:\n",
    "\n",
    "1. Gráfico de colunas (bar) e setor (pie) com as frequências relativas cadas categorias das variáveis qualitativas.\n",
    "2. Tabela cruzada entre pares de variaveis qualitativas. Montar o gráfico de colunas. Repetir o processo habilitando a opção \"stacked=True\".\n",
    "\n",
    "\n",
    "___\n",
    "\n",
    "\n",
    "\n",
    "<font color='red'>\n",
    "Crie um repositório chamado CD em seu Github\n",
    "</font>\n",
    "\n",
    "\n",
    "Neste repositório, salve seu trabalho numa pasta chamada aula2\n",
    "\n",
    "Por exemplo, se seu login for *pikachu* o projeto vai estar na pasta:\n",
    "\n",
    "https://github.com/<font color=red>pikachu/CD/aula2</font>\n",
    "\n",
    "\n",
    "\n",
    "## <font color='red'>Terça-feira (dia 16/08), no horário de atendimento da sua turma, deverá apresentar aos NINJAS!!</font>\n",
    "___"
   ]
  },
  {
   "cell_type": "code",
   "execution_count": 4,
   "metadata": {
    "collapsed": false
   },
   "outputs": [],
   "source": [
    "%matplotlib inline\n",
    "import pandas as pd\n",
    "import matplotlib.pyplot as plt\n",
    "import os"
   ]
  },
  {
   "cell_type": "code",
   "execution_count": null,
   "metadata": {
    "collapsed": false
   },
   "outputs": [],
   "source": [
    "print('Esperamos trabalhar no diretório')\n",
    "print(os.getcwd())"
   ]
  },
  {
   "cell_type": "code",
   "execution_count": 6,
   "metadata": {
    "collapsed": false
   },
   "outputs": [],
   "source": [
    "dados = pd.read_excel(\"PNAD_2013_A.xlsx\")\n"
   ]
  },
  {
   "cell_type": "code",
   "execution_count": 42,
   "metadata": {
    "collapsed": false
   },
   "outputs": [
    {
     "name": "stderr",
     "output_type": "stream",
     "text": [
      "//anaconda/lib/python3.5/site-packages/ipykernel/__main__.py:2: SettingWithCopyWarning: \n",
      "A value is trying to be set on a copy of a slice from a DataFrame\n",
      "\n",
      "See the caveats in the documentation: http://pandas.pydata.org/pandas-docs/stable/indexing.html#indexing-view-versus-copy\n",
      "  from ipykernel import kernelapp as app\n",
      "//anaconda/lib/python3.5/site-packages/ipykernel/__main__.py:3: SettingWithCopyWarning: \n",
      "A value is trying to be set on a copy of a slice from a DataFrame\n",
      "\n",
      "See the caveats in the documentation: http://pandas.pydata.org/pandas-docs/stable/indexing.html#indexing-view-versus-copy\n",
      "  app.launch_new_instance()\n",
      "//anaconda/lib/python3.5/site-packages/ipykernel/__main__.py:4: SettingWithCopyWarning: \n",
      "A value is trying to be set on a copy of a slice from a DataFrame\n",
      "\n",
      "See the caveats in the documentation: http://pandas.pydata.org/pandas-docs/stable/indexing.html#indexing-view-versus-copy\n",
      "//anaconda/lib/python3.5/site-packages/ipykernel/__main__.py:5: SettingWithCopyWarning: \n",
      "A value is trying to be set on a copy of a slice from a DataFrame\n",
      "\n",
      "See the caveats in the documentation: http://pandas.pydata.org/pandas-docs/stable/indexing.html#indexing-view-versus-copy\n",
      "//anaconda/lib/python3.5/site-packages/ipykernel/__main__.py:6: SettingWithCopyWarning: \n",
      "A value is trying to be set on a copy of a slice from a DataFrame\n",
      "\n",
      "See the caveats in the documentation: http://pandas.pydata.org/pandas-docs/stable/indexing.html#indexing-view-versus-copy\n"
     ]
    }
   ],
   "source": [
    "dados[\"Regiao\"] = dados.UF\n",
    "dados.Regiao[dados.UF <=16]=\"Norte\"\n",
    "dados.Regiao[(dados.UF >=17) & (dados.UF <=29)]=\"Nordeste\"\n",
    "dados.Regiao[(dados.UF >=31) & (dados.UF <=35)]=\"Sudeste\"\n",
    "dados.Regiao[(dados.UF >=41) & (dados.UF <=43)]=\"Sul\"\n",
    "dados.Regiao[(dados.UF >=50) & (dados.UF <=53)]=\"Centro-Oeste\""
   ]
  },
  {
   "cell_type": "code",
   "execution_count": 8,
   "metadata": {
    "collapsed": false
   },
   "outputs": [],
   "source": [
    "jovens = dados[(dados.V8005 >= 15) & (dados.V8005 <= 27)]\n",
    "homens = jovens[(jovens.V0302 == 2)]\n",
    "mulheres = jovens[(jovens.V0302 == 4)]\n",
    "homens_brancos = homens[(homens.V0404 == 2)]\n",
    "homens_negros = homens[(homens.V0404 == 4)]\n",
    "mulheres_brancas = mulheres[(mulheres.V0404 == 2)]\n",
    "mulheres_negras = mulheres[(mulheres.V0404 == 4)]\n",
    "homens_interesse = homens[(homens.V4802 <= 9)]\n",
    "mulheres_interesse = mulheres[(mulheres.V4802 <= 9)]"
   ]
  },
  {
   "cell_type": "code",
   "execution_count": 9,
   "metadata": {
    "collapsed": false
   },
   "outputs": [],
   "source": [
    "homens_final = homens_interesse.Regiao.value_counts(True) *100\n",
    "mulheres_final = mulheres_interesse.Regiao.value_counts(True) *100"
   ]
  },
  {
   "cell_type": "code",
   "execution_count": 10,
   "metadata": {
    "collapsed": false
   },
   "outputs": [
    {
     "data": {
      "text/plain": [
       "<matplotlib.axes._subplots.AxesSubplot at 0x13ab4a4e0>"
      ]
     },
     "execution_count": 10,
     "metadata": {},
     "output_type": "execute_result"
    },
    {
     "data": {
      "image/png": "[encoded data removed]",
      "text/plain": [
       "<matplotlib.figure.Figure at 0x11265f630>"
      ]
     },
     "metadata": {},
     "output_type": "display_data"
    }
   ],
   "source": [
    "# gráfico mostra o percentual de mulheres e homens que não terminaram, ou não foram além, do ensino fundamental, por estado\n",
    "mulheres_final.plot(kind='bar',legend=False,color=('red' ,'blue'),title='Frequência relativa de Mulheres Com Pouco Estudo por UF')"
   ]
  },
  {
   "cell_type": "code",
   "execution_count": 19,
   "metadata": {
    "collapsed": false,
    "scrolled": true
   },
   "outputs": [
    {
     "data": {
      "text/plain": [
       "<matplotlib.axes._subplots.AxesSubplot at 0x11cef4048>"
      ]
     },
     "execution_count": 19,
     "metadata": {},
     "output_type": "execute_result"
    },
    {
     "data": {
      "image/png": "[encoded data removed]",
      "text/plain": [
       "<matplotlib.figure.Figure at 0x11cefe128>"
      ]
     },
     "metadata": {},
     "output_type": "display_data"
    }
   ],
   "source": [
    "homens_final.plot(kind='bar',legend=False,color=('red' ,'blue'),title='Frequência relativa de Homens Com Pouco Estudo por UF')"
   ]
  },
  {
   "cell_type": "code",
   "execution_count": 17,
   "metadata": {
    "collapsed": false
   },
   "outputs": [
    {
     "data": {
      "text/plain": [
       "<matplotlib.axes._subplots.AxesSubplot at 0x11ccf8908>"
      ]
     },
     "execution_count": 17,
     "metadata": {},
     "output_type": "execute_result"
    },
    {
     "data": {
      "image/png": "[encoded data removed]",
      "text/plain": [
       "<matplotlib.figure.Figure at 0x11cd02cf8>"
      ]
     },
     "metadata": {},
     "output_type": "display_data"
    }
   ],
   "source": [
    "homens_final.plot(kind='pie',legend=False,title='Frequência relativa de Homens Com Pouco Estudo por UF')"
   ]
  },
  {
   "cell_type": "code",
   "execution_count": 18,
   "metadata": {
    "collapsed": false
   },
   "outputs": [
    {
     "data": {
      "text/plain": [
       "<matplotlib.axes._subplots.AxesSubplot at 0x11cce1780>"
      ]
     },
     "execution_count": 18,
     "metadata": {},
     "output_type": "execute_result"
    },
    {
     "data": {
      "image/png": "[encoded data removed]",
      "text/plain": [
       "<matplotlib.figure.Figure at 0x11cd60080>"
      ]
     },
     "metadata": {},
     "output_type": "display_data"
    }
   ],
   "source": [
    "mulheres_final.plot(kind='pie',legend=False,title='Frequência relativa de Mulheres Com Pouco Estudo por UF')"
   ]
  },
  {
   "cell_type": "code",
   "execution_count": 36,
   "metadata": {
    "collapsed": false
   },
   "outputs": [
    {
     "data": {
      "text/html": [
       "<div>\n",
       "<table border=\"1\" class=\"dataframe\">\n",
       "  <thead>\n",
       "    <tr style=\"text-align: right;\">\n",
       "      <th>V0404</th>\n",
       "      <th>Indígena</th>\n",
       "      <th>Branca</th>\n",
       "      <th>Preta</th>\n",
       "      <th>Amarela</th>\n",
       "      <th>Parda</th>\n",
       "      <th>Não declarado</th>\n",
       "    </tr>\n",
       "    <tr>\n",
       "      <th>V4802</th>\n",
       "      <th></th>\n",
       "      <th></th>\n",
       "      <th></th>\n",
       "      <th></th>\n",
       "      <th></th>\n",
       "      <th></th>\n",
       "    </tr>\n",
       "  </thead>\n",
       "  <tbody>\n",
       "    <tr>\n",
       "      <th>3</th>\n",
       "      <td>0</td>\n",
       "      <td>16</td>\n",
       "      <td>7</td>\n",
       "      <td>0</td>\n",
       "      <td>23</td>\n",
       "      <td>0</td>\n",
       "    </tr>\n",
       "    <tr>\n",
       "      <th>4</th>\n",
       "      <td>3</td>\n",
       "      <td>25</td>\n",
       "      <td>9</td>\n",
       "      <td>0</td>\n",
       "      <td>47</td>\n",
       "      <td>0</td>\n",
       "    </tr>\n",
       "    <tr>\n",
       "      <th>5</th>\n",
       "      <td>6</td>\n",
       "      <td>154</td>\n",
       "      <td>44</td>\n",
       "      <td>0</td>\n",
       "      <td>275</td>\n",
       "      <td>0</td>\n",
       "    </tr>\n",
       "    <tr>\n",
       "      <th>6</th>\n",
       "      <td>0</td>\n",
       "      <td>9</td>\n",
       "      <td>1</td>\n",
       "      <td>0</td>\n",
       "      <td>13</td>\n",
       "      <td>0</td>\n",
       "    </tr>\n",
       "    <tr>\n",
       "      <th>7</th>\n",
       "      <td>13</td>\n",
       "      <td>70</td>\n",
       "      <td>42</td>\n",
       "      <td>1</td>\n",
       "      <td>206</td>\n",
       "      <td>0</td>\n",
       "    </tr>\n",
       "    <tr>\n",
       "      <th>8</th>\n",
       "      <td>39</td>\n",
       "      <td>799</td>\n",
       "      <td>304</td>\n",
       "      <td>6</td>\n",
       "      <td>1956</td>\n",
       "      <td>0</td>\n",
       "    </tr>\n",
       "    <tr>\n",
       "      <th>9</th>\n",
       "      <td>1</td>\n",
       "      <td>34</td>\n",
       "      <td>12</td>\n",
       "      <td>0</td>\n",
       "      <td>65</td>\n",
       "      <td>0</td>\n",
       "    </tr>\n",
       "    <tr>\n",
       "      <th>10</th>\n",
       "      <td>23</td>\n",
       "      <td>2964</td>\n",
       "      <td>534</td>\n",
       "      <td>33</td>\n",
       "      <td>3830</td>\n",
       "      <td>0</td>\n",
       "    </tr>\n",
       "    <tr>\n",
       "      <th>11</th>\n",
       "      <td>10</td>\n",
       "      <td>2153</td>\n",
       "      <td>232</td>\n",
       "      <td>27</td>\n",
       "      <td>1377</td>\n",
       "      <td>0</td>\n",
       "    </tr>\n",
       "  </tbody>\n",
       "</table>\n",
       "</div>"
      ],
      "text/plain": [
       "V0404  Indígena  Branca  Preta  Amarela  Parda  Não declarado\n",
       "V4802                                                        \n",
       "3             0      16      7        0     23              0\n",
       "4             3      25      9        0     47              0\n",
       "5             6     154     44        0    275              0\n",
       "6             0       9      1        0     13              0\n",
       "7            13      70     42        1    206              0\n",
       "8            39     799    304        6   1956              0\n",
       "9             1      34     12        0     65              0\n",
       "10           23    2964    534       33   3830              0\n",
       "11           10    2153    232       27   1377              0"
      ]
     },
     "execution_count": 36,
     "metadata": {},
     "output_type": "execute_result"
    }
   ],
   "source": [
    "#crosstab entre homens que não terminaram o ensino e sua raça\n",
    "cor = homens.V0404.astype('category',ordered=True)\n",
    "cor.cat.categories = (\"Indígena\",\"Branca\",\"Preta\",\"Amarela\",\"Parda\",\"Não declarado\")\n",
    "pd.crosstab(homens.V4802,cor)"
   ]
  },
  {
   "cell_type": "code",
   "execution_count": 34,
   "metadata": {
    "collapsed": false
   },
   "outputs": [
    {
     "data": {
      "text/html": [
       "<div>\n",
       "<table border=\"1\" class=\"dataframe\">\n",
       "  <thead>\n",
       "    <tr style=\"text-align: right;\">\n",
       "      <th>V0404</th>\n",
       "      <th>Indígena</th>\n",
       "      <th>Branca</th>\n",
       "      <th>Preta</th>\n",
       "      <th>Amarela</th>\n",
       "      <th>Parda</th>\n",
       "      <th>Não declarado</th>\n",
       "    </tr>\n",
       "    <tr>\n",
       "      <th>V4802</th>\n",
       "      <th></th>\n",
       "      <th></th>\n",
       "      <th></th>\n",
       "      <th></th>\n",
       "      <th></th>\n",
       "      <th></th>\n",
       "    </tr>\n",
       "  </thead>\n",
       "  <tbody>\n",
       "    <tr>\n",
       "      <th>3</th>\n",
       "      <td>0</td>\n",
       "      <td>12</td>\n",
       "      <td>2</td>\n",
       "      <td>0</td>\n",
       "      <td>16</td>\n",
       "      <td>0</td>\n",
       "    </tr>\n",
       "    <tr>\n",
       "      <th>4</th>\n",
       "      <td>1</td>\n",
       "      <td>29</td>\n",
       "      <td>9</td>\n",
       "      <td>0</td>\n",
       "      <td>34</td>\n",
       "      <td>0</td>\n",
       "    </tr>\n",
       "    <tr>\n",
       "      <th>5</th>\n",
       "      <td>2</td>\n",
       "      <td>115</td>\n",
       "      <td>37</td>\n",
       "      <td>3</td>\n",
       "      <td>156</td>\n",
       "      <td>0</td>\n",
       "    </tr>\n",
       "    <tr>\n",
       "      <th>6</th>\n",
       "      <td>0</td>\n",
       "      <td>7</td>\n",
       "      <td>2</td>\n",
       "      <td>0</td>\n",
       "      <td>11</td>\n",
       "      <td>0</td>\n",
       "    </tr>\n",
       "    <tr>\n",
       "      <th>7</th>\n",
       "      <td>10</td>\n",
       "      <td>51</td>\n",
       "      <td>14</td>\n",
       "      <td>0</td>\n",
       "      <td>121</td>\n",
       "      <td>0</td>\n",
       "    </tr>\n",
       "    <tr>\n",
       "      <th>8</th>\n",
       "      <td>32</td>\n",
       "      <td>645</td>\n",
       "      <td>190</td>\n",
       "      <td>8</td>\n",
       "      <td>1299</td>\n",
       "      <td>0</td>\n",
       "    </tr>\n",
       "    <tr>\n",
       "      <th>9</th>\n",
       "      <td>0</td>\n",
       "      <td>19</td>\n",
       "      <td>7</td>\n",
       "      <td>0</td>\n",
       "      <td>65</td>\n",
       "      <td>0</td>\n",
       "    </tr>\n",
       "    <tr>\n",
       "      <th>10</th>\n",
       "      <td>29</td>\n",
       "      <td>3288</td>\n",
       "      <td>606</td>\n",
       "      <td>31</td>\n",
       "      <td>4230</td>\n",
       "      <td>0</td>\n",
       "    </tr>\n",
       "    <tr>\n",
       "      <th>11</th>\n",
       "      <td>11</td>\n",
       "      <td>2883</td>\n",
       "      <td>266</td>\n",
       "      <td>22</td>\n",
       "      <td>1842</td>\n",
       "      <td>0</td>\n",
       "    </tr>\n",
       "  </tbody>\n",
       "</table>\n",
       "</div>"
      ],
      "text/plain": [
       "V0404  Indígena  Branca  Preta  Amarela  Parda  Não declarado\n",
       "V4802                                                        \n",
       "3             0      12      2        0     16              0\n",
       "4             1      29      9        0     34              0\n",
       "5             2     115     37        3    156              0\n",
       "6             0       7      2        0     11              0\n",
       "7            10      51     14        0    121              0\n",
       "8            32     645    190        8   1299              0\n",
       "9             0      19      7        0     65              0\n",
       "10           29    3288    606       31   4230              0\n",
       "11           11    2883    266       22   1842              0"
      ]
     },
     "execution_count": 34,
     "metadata": {},
     "output_type": "execute_result"
    }
   ],
   "source": [
    "# crosstab entre escolaridade de mulheres e sua raça\n",
    "cor = mulheres.V0404.astype('category',ordered=True)\n",
    "cor.cat.categories = (\"Indígena\",\"Branca\",\"Preta\",\"Amarela\",\"Parda\",\"Não declarado\")\n",
    "pd.crosstab(mulheres.V4802,cor)"
   ]
  },
  {
   "cell_type": "markdown",
   "metadata": {
    "collapsed": true
   },
   "source": [
    "Conclusão:\n",
    "\n",
    "1- Concluímos que uma seleção eficiente de variáveis facilita muito o trabalho a ser feito. O maior tempo gasto nesse trabalho foi aquele gasto nessa seleção.\n",
    "\n",
    "2- Para chegar à segunda conclusão, partimos da premissa de que homens e mulheres que não foram capazes de chegar ao ensino médio, viriam a ocupar posições trabalhistas menos requisitadas na população. Selecionamos as atividades remuneradas que julgamos serem aquelas que pagavam pior, e, por fim, plotamos um gráfico da porcentagem de homens e mulheres que ocupavam essas posições por Estado. Ao sr Gold seria interessante abrir uma faculdade no Estado que apresentasse a menor porcentagem em nossos gráficos, uma vez que a porcentagem de alunos que terminam o ensino, e tendem a ocupar posições mais bem remuneradas devido ao bom nível de ensino superior é mais elevado. Por curiosidade, ainda gostariamos de saber quais as raças que usufruem melhor do sistema educacional brasileiro, e para isso fizemos os crosstabs acima, para homens e mulheres.\n",
    "\n",
    "3- Graças ao raciocínio acima, fomos capazes de afirmar que, de acorodo com o que julgamos uma região propensa à abertura de uma faculdade, a região Centro-Oeste é a melhor para o Sr Gold abrir seu negócio.\n",
    "\n"
   ]
  },
  {
   "cell_type": "markdown",
   "metadata": {},
   "source": [
    "## Segunda Entrega : Variáveis Quantitativas"
   ]
  },
  {
   "cell_type": "code",
   "execution_count": 63,
   "metadata": {
    "collapsed": false
   },
   "outputs": [
    {
     "data": {
      "text/plain": [
       "1         (-999999999.999, 99999999999.9]\n",
       "2         (-999999999.999, 99999999999.9]\n",
       "3         (-999999999.999, 99999999999.9]\n",
       "4         (-999999999.999, 99999999999.9]\n",
       "5         (-999999999.999, 99999999999.9]\n",
       "6         (-999999999.999, 99999999999.9]\n",
       "7         (-999999999.999, 99999999999.9]\n",
       "8         (-999999999.999, 99999999999.9]\n",
       "9         (-999999999.999, 99999999999.9]\n",
       "10        (-999999999.999, 99999999999.9]\n",
       "11        (-999999999.999, 99999999999.9]\n",
       "12        (-999999999.999, 99999999999.9]\n",
       "13        (-999999999.999, 99999999999.9]\n",
       "14        (-999999999.999, 99999999999.9]\n",
       "15        (-999999999.999, 99999999999.9]\n",
       "16        (-999999999.999, 99999999999.9]\n",
       "17        (-999999999.999, 99999999999.9]\n",
       "18        (-999999999.999, 99999999999.9]\n",
       "19        (-999999999.999, 99999999999.9]\n",
       "20        (-999999999.999, 99999999999.9]\n",
       "21        (-999999999.999, 99999999999.9]\n",
       "22        (-999999999.999, 99999999999.9]\n",
       "23        (-999999999.999, 99999999999.9]\n",
       "24        (-999999999.999, 99999999999.9]\n",
       "25        (-999999999.999, 99999999999.9]\n",
       "26        (-999999999.999, 99999999999.9]\n",
       "27        (-999999999.999, 99999999999.9]\n",
       "28        (-999999999.999, 99999999999.9]\n",
       "29        (-999999999.999, 99999999999.9]\n",
       "30        (-999999999.999, 99999999999.9]\n",
       "                       ...               \n",
       "362526    (-999999999.999, 99999999999.9]\n",
       "362527    (-999999999.999, 99999999999.9]\n",
       "362528    (-999999999.999, 99999999999.9]\n",
       "362529    (-999999999.999, 99999999999.9]\n",
       "362530    (-999999999.999, 99999999999.9]\n",
       "362531    (-999999999.999, 99999999999.9]\n",
       "362532    (-999999999.999, 99999999999.9]\n",
       "362533    (-999999999.999, 99999999999.9]\n",
       "362534    (-999999999.999, 99999999999.9]\n",
       "362535    (-999999999.999, 99999999999.9]\n",
       "362536    (-999999999.999, 99999999999.9]\n",
       "362537    (-999999999.999, 99999999999.9]\n",
       "362538    (-999999999.999, 99999999999.9]\n",
       "362539    (-999999999.999, 99999999999.9]\n",
       "362540    (-999999999.999, 99999999999.9]\n",
       "362541    (-999999999.999, 99999999999.9]\n",
       "362542    (-999999999.999, 99999999999.9]\n",
       "362543    (-999999999.999, 99999999999.9]\n",
       "362544    (-999999999.999, 99999999999.9]\n",
       "362545    (-999999999.999, 99999999999.9]\n",
       "362546    (-999999999.999, 99999999999.9]\n",
       "362547    (-999999999.999, 99999999999.9]\n",
       "362548    (-999999999.999, 99999999999.9]\n",
       "362549    (-999999999.999, 99999999999.9]\n",
       "362550    (-999999999.999, 99999999999.9]\n",
       "362551    (-999999999.999, 99999999999.9]\n",
       "362552    (-999999999.999, 99999999999.9]\n",
       "362553    (-999999999.999, 99999999999.9]\n",
       "362554    (-999999999.999, 99999999999.9]\n",
       "362555    (-999999999.999, 99999999999.9]\n",
       "Name: V4742, dtype: category\n",
       "Categories (10, object): [(-999999999.999, 99999999999.9] < (99999999999.9, 199999999999.8] < (199999999999.8, 299999999999.7] < (299999999999.7, 399999999999.6] ... (599999999999.4, 699999999999.3] < (699999999999.3, 799999999999.2] < (799999999999.2, 899999999999.1] < (899999999999.1, 999999999999]]"
      ]
     },
     "execution_count": 63,
     "metadata": {},
     "output_type": "execute_result"
    }
   ],
   "source": [
    "renda_domiciliar = pd.cut(dados.V4742,bins = 10)\n",
    "renda_domiciliar"
   ]
  },
  {
   "cell_type": "code",
   "execution_count": 61,
   "metadata": {
    "collapsed": false
   },
   "outputs": [
    {
     "data": {
      "text/plain": [
       "<matplotlib.axes._subplots.AxesSubplot at 0x11449dac8>"
      ]
     },
     "execution_count": 61,
     "metadata": {},
     "output_type": "execute_result"
    },
    {
     "data": {
      "image/png": "[encoded data removed]",
      "text/plain": [
       "<matplotlib.figure.Figure at 0x11449b128>"
      ]
     },
     "metadata": {},
     "output_type": "display_data"
    }
   ],
   "source": [
    "renda = (dados.V4742.value_counts())\n",
    "renda.plot(kind='box', legend=False,title='Idade')"
   ]
  },
  {
   "cell_type": "code",
   "execution_count": 56,
   "metadata": {
    "collapsed": false
   },
   "outputs": [
    {
     "data": {
      "text/plain": [
       "<matplotlib.axes._subplots.AxesSubplot at 0x11e929f28>"
      ]
     },
     "execution_count": 56,
     "metadata": {},
     "output_type": "execute_result"
    },
    {
     "data": {
      "image/png": "[encoded data removed]",
      "text/plain": [
       "<matplotlib.figure.Figure at 0x11d3f6080>"
      ]
     },
     "metadata": {},
     "output_type": "display_data"
    }
   ],
   "source": [
    "renda_domiciliar.value_counts().plot.bar()"
   ]
  },
  {
   "cell_type": "code",
   "execution_count": 66,
   "metadata": {
    "collapsed": false
   },
   "outputs": [
    {
     "data": {
      "text/plain": [
       "<matplotlib.axes._subplots.AxesSubplot at 0x11cd17358>"
      ]
     },
     "execution_count": 66,
     "metadata": {},
     "output_type": "execute_result"
    },
    {
     "data": {
      "image/png": "[encoded data removed]",
      "text/plain": [
       "<matplotlib.figure.Figure at 0x11cbbe908>"
      ]
     },
     "metadata": {},
     "output_type": "display_data"
    }
   ],
   "source": [
    "filhos_homens = (dados.V1141.value_counts())\n",
    "filhos_homens.plot(kind='box', legend=False,title='Idade')"
   ]
  },
  {
   "cell_type": "code",
   "execution_count": 67,
   "metadata": {
    "collapsed": false
   },
   "outputs": [
    {
     "data": {
      "text/plain": [
       "<matplotlib.axes._subplots.AxesSubplot at 0x115e51080>"
      ]
     },
     "execution_count": 67,
     "metadata": {},
     "output_type": "execute_result"
    },
    {
     "data": {
      "image/png": "[encoded data removed]",
      "text/plain": [
       "<matplotlib.figure.Figure at 0x115e575f8>"
      ]
     },
     "metadata": {},
     "output_type": "display_data"
    }
   ],
   "source": [
    "filhos_mulheres = (dados.V1142.value_counts())\n",
    "filhos_mulheres.plot(kind='box', legend=False,title='Idade')"
   ]
  },
  {
   "cell_type": "markdown",
   "metadata": {},
   "source": [
    "## Conclusão:\n",
    "\n",
    "Os dados pareceram inconclusivos, entretanto, é possível perceber que existem outliners superiores quanto ao numero de filhos homens e mulheres na população brasileira. Todavia, tal conclusão não pode ser feita a respeito de nenhum estado brasileiro.\n",
    "\n",
    "Quanto à renda, parece estranho , porém o box-plot relata que existem diversos casos de outliners superiores, o que indica que há diversos casos de brasileiros que obtém uma renda domiciliar acima do valor Q3 + 1.5*IQ."
   ]
  },
  {
   "cell_type": "code",
   "execution_count": null,
   "metadata": {
    "collapsed": true
   },
   "outputs": [],
   "source": []
  }
 ],
 "metadata": {
  "anaconda-cloud": {},
  "kernelspec": {
   "display_name": "Python 3",
   "language": "python",
   "name": "python3"
  },
  "language_info": {
   "codemirror_mode": {
    "name": "ipython",
    "version": 3
   },
   "file_extension": ".py",
   "mimetype": "text/x-python",
   "name": "python",
   "nbconvert_exporter": "python",
   "pygments_lexer": "ipython3",
   "version": "3.5.2"
  }
 },
 "nbformat": 4,
 "nbformat_minor": 0
}
